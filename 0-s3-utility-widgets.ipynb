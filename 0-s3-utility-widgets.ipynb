{
 "cells": [
  {
   "attachments": {},
   "cell_type": "markdown",
   "metadata": {},
   "source": [
    "# Get objects from an S3 storage\n",
    "\n",
    "This script is intended to collect datasets from an S3 location, and store them in a local folder and the post them back to a different S3 prefix."
   ]
  },
  {
   "attachments": {},
   "cell_type": "markdown",
   "metadata": {},
   "source": [
    "## Install the requirements\n",
    "\n",
    "Install the python requirements for the script."
   ]
  },
  {
   "cell_type": "code",
   "execution_count": null,
   "metadata": {},
   "outputs": [],
   "source": [
    "# install the required packages\n",
    "# !pip install -r requirements.txt"
   ]
  },
  {
   "attachments": {},
   "cell_type": "markdown",
   "metadata": {},
   "source": [
    "## Import python libraries\n",
    "\n",
    "Import the python libraries required for the script."
   ]
  },
  {
   "cell_type": "code",
   "execution_count": 2,
   "metadata": {},
   "outputs": [],
   "source": [
    "# imports\n",
    "import os\n",
    "import json\n",
    "import boto3\n",
    "from botocore.exceptions import ClientError\n",
    "import ipywidgets as widgets"
   ]
  },
  {
   "attachments": {},
   "cell_type": "markdown",
   "metadata": {},
   "source": [
    "## Specify the S3 details in the environment\n",
    "\n",
    "1. Create a file called ***.env*** in the top level directory.\n",
    "1. Use the ***example.env*** file as a reference and fill out the required variables"
   ]
  },
  {
   "cell_type": "code",
   "execution_count": 8,
   "metadata": {},
   "outputs": [
    {
     "data": {
      "application/vnd.jupyter.widget-view+json": {
       "model_id": "84ed40eb21fe433ebc5690465fd3bffc",
       "version_major": 2,
       "version_minor": 0
      },
      "text/plain": [
       "VBox(children=(Button(button_style='primary', description='Example file', icon='download', style=ButtonStyle()…"
      ]
     },
     "metadata": {},
     "output_type": "display_data"
    }
   ],
   "source": [
    "# create a download button widget for the exported.env file\n",
    "download_button = widgets.Button(\n",
    "    description='Example file',\n",
    "    button_style='primary',\n",
    "    icon='download'\n",
    ")\n",
    "\n",
    "# define the function to download the file\n",
    "def download_file(download_button):\n",
    "    # get the file name\n",
    "    file_name = 'example.env'\n",
    "    # get the file content\n",
    "    file_content = open(file_name, 'rb').read()\n",
    "    # create a file\n",
    "    with open(file_name, 'wb') as f:\n",
    "        f.write(file_content)\n",
    "\n",
    "    \n",
    "# define the function to handle the file download\n",
    "def handle_file_download(change):\n",
    "    # check if the download button widget has been clicked\n",
    "    if download_button.value:\n",
    "        # download the file\n",
    "        download_file(download_button)\n",
    "        # reset the download button widget\n",
    "        download_button.value = False\n",
    "        \n",
    "# register the function to handle the file download\n",
    "download_button.on_click(handle_file_download)\n",
    "\n",
    "# create a file upload widget\n",
    "file_upload = widgets.FileUpload(\n",
    "    accept='.env',\n",
    "    multiple=False,\n",
    "    description='Upload .env',\n",
    "    button_style='primary',\n",
    "    icon='upload'\n",
    ")\n",
    "\n",
    "# define the function to upload the file\n",
    "def upload_file(file_upload):\n",
    "    # get the file name\n",
    "    file_name = list(file_upload.value.keys())[0]\n",
    "    # get the file content\n",
    "    file_content = file_upload.value[file_name]['content']\n",
    "    # decode the file content\n",
    "    file_content = file_content.decode('utf-8')\n",
    "    # create a file\n",
    "    with open(file_name, 'w') as f:\n",
    "        f.write(file_content)\n",
    "    \n",
    "# define the function to handle the file upload\n",
    "def handle_file_upload(change):\n",
    "    # check if the file upload widget has a value\n",
    "    if file_upload.value:\n",
    "        # upload the file\n",
    "        upload_file(file_upload)\n",
    "        # reset the file upload widget\n",
    "        file_upload.value.clear()\n",
    "        \n",
    "# register the function to handle the file upload\n",
    "file_upload.observe(handle_file_upload, names='value')\n",
    "\n",
    "# display the file download and upload widget with some padding\n",
    "display(widgets.VBox([download_button, file_upload], layout=widgets.Layout(padding='10px')))\n"
   ]
  },
  {
   "cell_type": "code",
   "execution_count": 5,
   "metadata": {},
   "outputs": [
    {
     "data": {
      "application/vnd.jupyter.widget-view+json": {
       "model_id": "5a8119c584f94a7baa7d41184dec75d9",
       "version_major": 2,
       "version_minor": 0
      },
      "text/plain": [
       "VBox(children=(Button(button_style='primary', description='Load .env', icon='check', style=ButtonStyle()),), l…"
      ]
     },
     "metadata": {},
     "output_type": "display_data"
    }
   ],
   "source": [
    "# create a button to load the environment variables\n",
    "load_env_button = widgets.Button(\n",
    "    description='Load .env',\n",
    "    button_style='primary',\n",
    "    icon='check'\n",
    ")\n",
    "\n",
    "# define the function to load the environment variables\n",
    "def load_env(button):\n",
    "    # take environment variables from .env.\n",
    "    from dotenv import load_dotenv\n",
    "    load_dotenv(\".env\")\n",
    "    \n",
    "# register the function to load the environment variables\n",
    "load_env_button.on_click(load_env)\n",
    "\n",
    "# display the button with some padding\n",
    "display(widgets.VBox([load_env_button], layout=widgets.Layout(padding='10px')))\n"
   ]
  },
  {
   "attachments": {},
   "cell_type": "markdown",
   "metadata": {},
   "source": [
    "## Create an S3 client\n",
    "\n",
    "Provide secret credentials for the S3 location, and create an S3 client."
   ]
  },
  {
   "cell_type": "code",
   "execution_count": 13,
   "metadata": {},
   "outputs": [
    {
     "data": {
      "application/vnd.jupyter.widget-view+json": {
       "model_id": "102151c058f34788ad1530ac820b2507",
       "version_major": 2,
       "version_minor": 0
      },
      "text/plain": [
       "VBox(children=(Button(button_style='primary', description='Create S3 client', icon='check', style=ButtonStyle(…"
      ]
     },
     "metadata": {},
     "output_type": "display_data"
    }
   ],
   "source": [
    "# initialize the S3 client\n",
    "s3_client = None\n",
    "bucket_name = \"\"\n",
    "object_prefix = \"dataset\"\n",
    "\n",
    "# create a button to create an S3 client\n",
    "create_s3_client_button = widgets.Button(\n",
    "    description='Create S3 client',\n",
    "    button_style='primary',\n",
    "    icon='check'\n",
    ")\n",
    "\n",
    "# define the function to create an S3 client\n",
    "def create_s3_client(button, s3_client=s3_client, bucket_name=bucket_name):\n",
    "    # collect requisite data from s3\n",
    "    session = boto3.session.Session()\n",
    "    endpoint = 'https://' + '.'.join([os.getenv('S3_REGION'), os.getenv('S3_DOMAIN')])\n",
    "    s3_client = session.client('s3',\n",
    "                            region_name=os.getenv('S3_REGION'),\n",
    "                            endpoint_url=endpoint,\n",
    "                            aws_access_key_id=os.getenv('S3_BUCKET_KEY'),\n",
    "                            aws_secret_access_key=os.getenv('S3_BUCKET_SECRET'))\n",
    "    \n",
    "    bucket_name = os.getenv(\"S3_BUCKET\", \"\")\n",
    "    object_prefix = os.getenv(\"S3_DATASET_PREFIX\", \"dataset\")\n",
    "\n",
    "# register the function to create an S3 client\n",
    "create_s3_client_button.on_click(create_s3_client)\n",
    "\n",
    "# display the button with some padding\n",
    "display(widgets.VBox([create_s3_client_button], layout=widgets.Layout(padding='10px')))\n"
   ]
  },
  {
   "attachments": {},
   "cell_type": "markdown",
   "metadata": {},
   "source": [
    "## list the objects in the bucket"
   ]
  },
  {
   "cell_type": "code",
   "execution_count": 14,
   "metadata": {},
   "outputs": [
    {
     "data": {
      "application/vnd.jupyter.widget-view+json": {
       "model_id": "ba52d036329c40d69ff1b1a92477203e",
       "version_major": 2,
       "version_minor": 0
      },
      "text/plain": [
       "VBox(children=(Button(button_style='primary', description='List objects', icon='check', style=ButtonStyle()), …"
      ]
     },
     "metadata": {},
     "output_type": "display_data"
    }
   ],
   "source": [
    "# create a list objects button\n",
    "list_objects_button = widgets.Button(\n",
    "    description='List objects',\n",
    "    button_style='primary',\n",
    "    icon='check'\n",
    ")\n",
    "\n",
    "# create an output widget to display the list of objects\n",
    "list_objects_output = widgets.Output()\n",
    "\n",
    "# define the function to list objects\n",
    "@list_objects_output.capture(clear_output=True)\n",
    "def list_objects(button, s3_client=s3_client, bucket_name=bucket_name, object_prefix=object_prefix):\n",
    "    # list bucket objects\n",
    "    response = s3_client.list_objects(Bucket=bucket_name, Prefix=object_prefix)\n",
    "\n",
    "    print(response)\n",
    "\n",
    "# register the function to list objects\n",
    "list_objects_button.on_click(list_objects)\n",
    "\n",
    "# display the button and output widget with some padding\n",
    "display(widgets.VBox([list_objects_button, list_objects_output], layout=widgets.Layout(padding='10px')))\n"
   ]
  },
  {
   "attachments": {},
   "cell_type": "markdown",
   "metadata": {},
   "source": [
    "## Download the objects from the bucket\n",
    "\n",
    "Get the files in a specific prefix and pull all the files from it."
   ]
  },
  {
   "cell_type": "code",
   "execution_count": 15,
   "metadata": {},
   "outputs": [
    {
     "data": {
      "application/vnd.jupyter.widget-view+json": {
       "model_id": "55dc1804e4864622a96254f5da08971c",
       "version_major": 2,
       "version_minor": 0
      },
      "text/plain": [
       "VBox(children=(Button(button_style='primary', description='Download objects', icon='check', style=ButtonStyle(…"
      ]
     },
     "metadata": {},
     "output_type": "display_data"
    }
   ],
   "source": [
    "# create a download button\n",
    "download_button = widgets.Button(\n",
    "    description='Download objects',\n",
    "    button_style='primary',\n",
    "    icon='check'\n",
    ")\n",
    "\n",
    "# create an output widget to display the download progress\n",
    "download_output = widgets.Output()\n",
    "\n",
    "# define the function to download objects\n",
    "@download_output.capture(clear_output=True)\n",
    "def download_objects(button, s3_client=s3_client, bucket_name=bucket_name, object_prefix=object_prefix):\n",
    "    download_path = \"downloads\"\n",
    "\n",
    "    # list morphology dataset\n",
    "    response = s3_client.list_objects(Bucket=bucket_name, Prefix=object_prefix)\n",
    "\n",
    "    # try downloading all of them\n",
    "    try:\n",
    "        print(\"downloading files\")\n",
    "        for obj in response['Contents']:\n",
    "            print(obj['Key'])\n",
    "            key = obj['Key']\n",
    "\n",
    "            fname = os.path.basename(key)\n",
    "            print(fname)\n",
    "\n",
    "            # try download this file\n",
    "            try:\n",
    "                s3_client.download_file(bucket_name, key, os.path.join(\n",
    "                    download_path, fname))\n",
    "            except PermissionError as e:\n",
    "                print(e)\n",
    "\n",
    "    except KeyError as e:\n",
    "        print(e)\n",
    "\n",
    "    print(\"done\")\n",
    "    \n",
    "# register the function to download objects\n",
    "download_button.on_click(download_objects)\n",
    "\n",
    "# display the button and output widget with some padding\n",
    "display(widgets.VBox([download_button, download_output], layout=widgets.Layout(padding='10px')))\n"
   ]
  },
  {
   "attachments": {},
   "cell_type": "markdown",
   "metadata": {},
   "source": [
    "## Put files into S3 storage\n",
    "\n",
    "Put datasets back into an S3 location once analysed. Provide some credentials for the S3 location and put everything in."
   ]
  },
  {
   "cell_type": "code",
   "execution_count": null,
   "metadata": {},
   "outputs": [],
   "source": [
    "def client_upload_file(client, file_name, bucket, object_name=None):\n",
    "    \"\"\"Upload a file to an S3 bucket\n",
    "\n",
    "    :param file_name: File to upload\n",
    "    :param bucket: Bucket to upload to\n",
    "    :param object_name: S3 object name. If not specified then file_name is used\n",
    "    :return: True if file was uploaded, else False\n",
    "    \"\"\"\n",
    "\n",
    "    # If S3 object_name was not specified, use file_name\n",
    "    if object_name is None:\n",
    "        object_name = os.path.basename(file_name)\n",
    "\n",
    "    # Upload the file\n",
    "    try:\n",
    "        response = client.upload_file(file_name, bucket, object_name)\n",
    "    except ClientError as e:\n",
    "        print(e)\n",
    "        return False\n",
    "    return True"
   ]
  },
  {
   "cell_type": "code",
   "execution_count": null,
   "metadata": {},
   "outputs": [],
   "source": [
    "# create a button to upload the results\n",
    "upload_results_button = widgets.Button(\n",
    "    description='Upload results',\n",
    "    button_style='primary',\n",
    "    icon='check'\n",
    ")\n",
    "\n",
    "# create an output widget to display the upload progress\n",
    "upload_results_output = widgets.Output()\n",
    "\n",
    "# define the function to upload the results\n",
    "@upload_results_output.capture(clear_output=True)\n",
    "def upload_results(button, s3_client=s3_client, bucket_name=bucket_name):\n",
    "    results_dir = \"uploads\"\n",
    "\n",
    "    # list the results\n",
    "    result_dirs = os.listdir(results_dir)\n",
    "\n",
    "    # do the uploads for all the result files\n",
    "    # by iterating through sub-folders\n",
    "    for folder in result_dirs:\n",
    "        path = os.path.join(results_dir, folder)\n",
    "        files = [file for file in os.listdir(path) if os.path.isfile(os.path.join(path, file))]\n",
    "\n",
    "        for f in files:\n",
    "            object_name = '/'.join([os.path.basename(results_dir), folder, f])\n",
    "            print(object_name)\n",
    "\n",
    "            filename = os.path.join(path, f)\n",
    "            client_upload_file(s3_client, filename, bucket_name, object_name)\n",
    "            \n",
    "\n",
    "# register the function to upload the results\n",
    "upload_results_button.on_click(upload_results)\n",
    "\n",
    "# display the button and output widget with some padding\n",
    "display(widgets.VBox([upload_results_button, upload_results_output], layout=widgets.Layout(padding='10px')))\n"
   ]
  }
 ],
 "metadata": {
  "kernelspec": {
   "display_name": ".venv",
   "language": "python",
   "name": "python3"
  },
  "language_info": {
   "codemirror_mode": {
    "name": "ipython",
    "version": 3
   },
   "file_extension": ".py",
   "mimetype": "text/x-python",
   "name": "python",
   "nbconvert_exporter": "python",
   "pygments_lexer": "ipython3",
   "version": "3.11.3"
  },
  "orig_nbformat": 4
 },
 "nbformat": 4,
 "nbformat_minor": 2
}
